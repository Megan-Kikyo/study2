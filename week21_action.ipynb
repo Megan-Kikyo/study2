{
 "cells": [
  {
   "cell_type": "code",
   "execution_count": 3,
   "metadata": {},
   "outputs": [],
   "source": [
    "###加载相关包###\n",
    "import gc\n",
    "import pandas as pd"
   ]
  },
  {
   "cell_type": "code",
   "execution_count": 18,
   "metadata": {},
   "outputs": [],
   "source": [
    "# 加载全量样本\n",
    "user_log = pd.read_csv('./data_format1/user_log_format1.csv', dtype={'time_stamp':'str'})\n",
    "user_info = pd.read_csv('./data_format1/user_info_format1.csv')\n",
    "train_data1 = pd.read_csv('./data_format1/train_format1.csv')\n",
    "submission = pd.read_csv('./data_format1/test_format1.csv')"
   ]
  },
  {
   "cell_type": "code",
   "execution_count": 4,
   "metadata": {},
   "outputs": [],
   "source": [
    "# 加载小样本\n",
    "# user_log = pd.read_csv('./data_format1_small/sample_user_log.csv', dtype={'time_stamp':'str'})\n",
    "# user_info = pd.read_csv('./data_format1_small/sample_user_info.csv')\n",
    "# train_data1 = pd.read_csv('./data_format1_small/train.csv')\n",
    "# submission = pd.read_csv('./data_format1_small/test.csv')\n",
    "train_data = pd.read_csv('./data_format2/train_format2.csv')"
   ]
  },
  {
   "cell_type": "code",
   "execution_count": 22,
   "metadata": {},
   "outputs": [],
   "source": [
    "# 合并训练集和测试集\n",
    "train_data1['origin'] = 'train'\n",
    "submission['origin'] = 'test'\n",
    "matrix = pd.concat([train_data1, submission], ignore_index=True, sort=False)\n",
    "#print(matrix)"
   ]
  },
  {
   "cell_type": "code",
   "execution_count": 23,
   "metadata": {},
   "outputs": [],
   "source": [
    "matrix.drop(['prob'], axis=1, inplace=True)\n",
    "# 连接user_info表，通过user_id关联\n",
    "matrix = matrix.merge(user_info, on='user_id', how='left')\n",
    "# 使用merchant_id（原列名seller_id）\n",
    "user_log.rename(columns={'seller_id':'merchant_id'}, inplace=True)"
   ]
  },
  {
   "cell_type": "code",
   "execution_count": 24,
   "metadata": {},
   "outputs": [
    {
     "name": "stdout",
     "output_type": "stream",
     "text": [
      "        user_id  merchant_id label origin  age_range  gender\n",
      "0         34176         3906   0.0  train          6       0\n",
      "1         34176          121   0.0  train          6       0\n",
      "2         34176         4356   1.0  train          6       0\n",
      "3         34176         2217   0.0  train          6       0\n",
      "4        230784         4818   0.0  train          0       0\n",
      "...         ...          ...   ...    ...        ...     ...\n",
      "522336   228479         3111   nan   test          6       0\n",
      "522337    97919         2341   nan   test          8       1\n",
      "522338    97919         3971   nan   test          8       1\n",
      "522339    32639         3536   nan   test          0       0\n",
      "522340    32639         3319   nan   test          0       0\n",
      "\n",
      "[522341 rows x 6 columns]\n"
     ]
    }
   ],
   "source": [
    "# 格式化\n",
    "user_log['user_id'] = user_log['user_id'].astype('int32')\n",
    "user_log['merchant_id'] = user_log['merchant_id'].astype('int32')\n",
    "user_log['item_id'] = user_log['item_id'].astype('int32')\n",
    "user_log['cat_id'] = user_log['cat_id'].astype('int32')\n",
    "user_log['brand_id'].fillna(0, inplace=True)\n",
    "user_log['brand_id'] = user_log['brand_id'].astype('int32')\n",
    "user_log['time_stamp'] = pd.to_datetime(user_log['time_stamp'], format='%H%M')\n",
    "# 1 for <18; 2 for [18,24]; 3 for [25,29]; 4 for [30,34]; 5 for [35,39]; 6 for [40,49]; 7 and 8 for >= 50; 0 and NULL for unknown\n",
    "matrix['age_range'].fillna(0, inplace=True)\n",
    "# 0:female, 1:male, 2:unknown\n",
    "matrix['gender'].fillna(2, inplace=True)\n",
    "matrix['age_range'] = matrix['age_range'].astype('int8')\n",
    "matrix['gender'] = matrix['gender'].astype('int8')\n",
    "matrix['label'] = matrix['label'].astype('str')\n",
    "matrix['user_id'] = matrix['user_id'].astype('int32')\n",
    "matrix['merchant_id'] = matrix['merchant_id'].astype('int32')\n",
    "del user_info, train_data1\n",
    "gc.collect()\n",
    "print(matrix)"
   ]
  },
  {
   "cell_type": "code",
   "execution_count": 25,
   "metadata": {},
   "outputs": [],
   "source": [
    "# User特征处理\n",
    "groups = user_log.groupby(['user_id'])\n",
    "# 用户交互行为数量 u1\n",
    "temp = groups.size().reset_index().rename(columns={0:'u1'})\n",
    "matrix = matrix.merge(temp, on='user_id', how='left')\n",
    "# 使用agg 基于列的聚合操作，统计唯一值的个数 item_id, cat_id, merchant_id, brand_id\n",
    "#temp = groups['item_id', 'cat_id', 'merchant_id', 'brand_id'].nunique().reset_index().rename(columns={'item_id':'u2', 'cat_id':'u3', 'merchant_id':'u4', 'brand_id':'u5'})\n",
    "# 对于每个user_id 不重复的item_id的数量 => u2\n",
    "temp = groups['item_id'].agg([('u2', 'nunique')]).reset_index()\n",
    "matrix = matrix.merge(temp, on='user_id', how='left')\n",
    "# 对于每个user_id 不重复的cat_id的数量 => u3\n",
    "temp = groups['cat_id'].agg([('u3', 'nunique')]).reset_index()\n",
    "matrix = matrix.merge(temp, on='user_id', how='left')\n",
    "temp = groups['merchant_id'].agg([('u4', 'nunique')]).reset_index()\n",
    "matrix = matrix.merge(temp, on='user_id', how='left')\n",
    "temp = groups['brand_id'].agg([('u5', 'nunique')]).reset_index()\n",
    "matrix = matrix.merge(temp, on='user_id', how='left')"
   ]
  },
  {
   "cell_type": "code",
   "execution_count": 26,
   "metadata": {},
   "outputs": [
    {
     "name": "stdout",
     "output_type": "stream",
     "text": [
      "        user_id  merchant_id label origin  age_range  gender    u1    u2  u3  \\\n",
      "0         34176         3906   0.0  train          6       0   451   256  45   \n",
      "1         34176          121   0.0  train          6       0   451   256  45   \n",
      "2         34176         4356   1.0  train          6       0   451   256  45   \n",
      "3         34176         2217   0.0  train          6       0   451   256  45   \n",
      "4        230784         4818   0.0  train          0       0    54    31  17   \n",
      "...         ...          ...   ...    ...        ...     ...   ...   ...  ..   \n",
      "522336   228479         3111   nan   test          6       0  2004  1173  71   \n",
      "522337    97919         2341   nan   test          8       1    55    29  14   \n",
      "522338    97919         3971   nan   test          8       1    55    29  14   \n",
      "522339    32639         3536   nan   test          0       0    72    46  24   \n",
      "522340    32639         3319   nan   test          0       0    72    46  24   \n",
      "\n",
      "         u4   u5        u6      u7   u8    u9    u10  \n",
      "0       109  108  5.833333   410.0  NaN  34.0    7.0  \n",
      "1       109  108  5.833333   410.0  NaN  34.0    7.0  \n",
      "2       109  108  5.833333   410.0  NaN  34.0    7.0  \n",
      "3       109  108  5.833333   410.0  NaN  34.0    7.0  \n",
      "4        20   19  5.166667    47.0  NaN   7.0    NaN  \n",
      "...     ...  ...       ...     ...  ...   ...    ...  \n",
      "522336  278  282  6.000000  1770.0  NaN  26.0  208.0  \n",
      "522337   17   17  4.750000    46.0  NaN   8.0    1.0  \n",
      "522338   17   17  4.750000    46.0  NaN   8.0    1.0  \n",
      "522339   33   35  5.800000    62.0  1.0   8.0    1.0  \n",
      "522340   33   35  5.800000    62.0  1.0   8.0    1.0  \n",
      "\n",
      "[522341 rows x 16 columns]\n"
     ]
    }
   ],
   "source": [
    "# 时间间隔特征 u6 按照小时\n",
    "# 对于每个user_id 计算time_stamp的最小时间 => F_time, 最大时间max => L_time\n",
    "temp = groups['time_stamp'].agg([('F_time', 'min'), ('L_time', 'max')]).reset_index()\n",
    "temp['u6'] = (temp['L_time'] - temp['F_time']).dt.seconds/3600\n",
    "matrix = matrix.merge(temp[['user_id', 'u6']], on='user_id', how='left')\n",
    "# 统计操作类型为0，1，2，3的个数\n",
    "temp = groups['action_type'].value_counts().unstack().reset_index().rename(columns={0:'u7', 1:'u8', 2:'u9', 3:'u10'})\n",
    "matrix = matrix.merge(temp, on='user_id', how='left')\n",
    "print(matrix)"
   ]
  },
  {
   "cell_type": "code",
   "execution_count": 27,
   "metadata": {},
   "outputs": [
    {
     "name": "stderr",
     "output_type": "stream",
     "text": [
      "/opt/conda/lib/python3.7/site-packages/ipykernel_launcher.py:7: FutureWarning: Indexing with multiple keys (implicitly converted to a tuple of keys) will be deprecated, use a list instead.\n",
      "  import sys\n"
     ]
    }
   ],
   "source": [
    "# 商家特征处理\n",
    "groups = user_log.groupby(['merchant_id'])\n",
    "# 商家被交互行为数量 m1\n",
    "temp = groups.size().reset_index().rename(columns={0:'m1'})\n",
    "matrix = matrix.merge(temp, on='merchant_id', how='left')\n",
    "# 统计商家被交互的user_id, item_id, cat_id, brand_id 唯一值\n",
    "temp = groups['user_id', 'item_id', 'cat_id', 'brand_id'].nunique().reset_index().rename(columns={'user_id':'m2', 'item_id':'m3', 'cat_id':'m4', 'brand_id':'m5'})\n",
    "matrix = matrix.merge(temp, on='merchant_id', how='left')\n",
    "# 统计商家被交互的action_type 唯一值\n",
    "temp = groups['action_type'].value_counts().unstack().reset_index().rename(columns={0:'m6', 1:'m7', 2:'m8', 3:'m9'})\n",
    "matrix = matrix.merge(temp, on='merchant_id', how='left')\n",
    "# 按照merchant_id 统计随机负采样的个数\n",
    "temp = train_data[train_data['label']==-1].groupby(['merchant_id']).size().reset_index().rename(columns={0:'m10'})\n",
    "matrix = matrix.merge(temp, on='merchant_id', how='left')\n",
    "#print(matrix)"
   ]
  },
  {
   "cell_type": "code",
   "execution_count": 28,
   "metadata": {},
   "outputs": [
    {
     "name": "stderr",
     "output_type": "stream",
     "text": [
      "/opt/conda/lib/python3.7/site-packages/ipykernel_launcher.py:5: FutureWarning: Indexing with multiple keys (implicitly converted to a tuple of keys) will be deprecated, use a list instead.\n",
      "  \"\"\"\n"
     ]
    }
   ],
   "source": [
    "# 按照user_id, merchant_id分组\n",
    "groups = user_log.groupby(['user_id', 'merchant_id'])\n",
    "temp = groups.size().reset_index().rename(columns={0:'um1'}) #统计行为个数\n",
    "matrix = matrix.merge(temp, on=['user_id', 'merchant_id'], how='left')\n",
    "temp = groups['item_id', 'cat_id', 'brand_id'].nunique().reset_index().rename(columns={'item_id':'um2', 'cat_id':'um3', 'brand_id':'um4'}) #统计item_id, cat_id, brand_id唯一个数\n",
    "matrix = matrix.merge(temp, on=['user_id', 'merchant_id'], how='left')\n",
    "temp = groups['action_type'].value_counts().unstack().reset_index().rename(columns={0:'um5', 1:'um6', 2:'um7', 3:'um8'})#统计不同action_type唯一个数\n",
    "matrix = matrix.merge(temp, on=['user_id', 'merchant_id'], how='left')\n",
    "temp = groups['time_stamp'].agg([('first', 'min'), ('last', 'max')]).reset_index()\n",
    "temp['um9'] = (temp['last'] - temp['first']).dt.seconds/3600\n",
    "temp.drop(['first', 'last'], axis=1, inplace=True)\n",
    "matrix = matrix.merge(temp, on=['user_id', 'merchant_id'], how='left') #统计时间间隔\n",
    "#print(matrix)"
   ]
  },
  {
   "cell_type": "code",
   "execution_count": 29,
   "metadata": {},
   "outputs": [],
   "source": [
    "#用户购买点击比\n",
    "matrix['r1'] = matrix['u9']/matrix['u7'] \n",
    "#商家购买点击比\n",
    "matrix['r2'] = matrix['m8']/matrix['m6'] \n",
    "#不同用户不同商家购买点击比\n",
    "matrix['r3'] = matrix['um7']/matrix['um5']\n",
    "matrix.fillna(0, inplace=True)"
   ]
  },
  {
   "cell_type": "code",
   "execution_count": 30,
   "metadata": {},
   "outputs": [
    {
     "data": {
      "text/plain": [
       "51"
      ]
     },
     "execution_count": 30,
     "metadata": {},
     "output_type": "execute_result"
    }
   ],
   "source": [
    "# 分割训练数据和测试数据\n",
    "train_data = matrix[matrix['origin'] == 'train'].drop(['origin'], axis=1)\n",
    "test_data = matrix[matrix['origin'] == 'test'].drop(['label', 'origin'], axis=1)\n",
    "train_X, train_y = train_data.drop(['label'], axis=1), train_data['label']\n",
    "del temp, matrix\n",
    "gc.collect()"
   ]
  },
  {
   "cell_type": "code",
   "execution_count": 31,
   "metadata": {},
   "outputs": [],
   "source": [
    "# 使用机器学习工具\n",
    "from sklearn.model_selection import train_test_split\n",
    "from sklearn.ensemble import RandomForestClassifier\n",
    "from sklearn.linear_model import LinearRegression\n",
    "from sklearn.metrics import classification_report\n",
    "import xgboost as xgb"
   ]
  },
  {
   "cell_type": "code",
   "execution_count": 32,
   "metadata": {},
   "outputs": [],
   "source": [
    "# 将训练集进行切分，20%用于验证\n",
    "X_train, X_valid, y_train, y_valid = train_test_split(train_X, train_y, test_size=.2)"
   ]
  },
  {
   "cell_type": "code",
   "execution_count": 33,
   "metadata": {},
   "outputs": [
    {
     "name": "stdout",
     "output_type": "stream",
     "text": [
      "[0]\tvalidation_0-auc:0.63697\tvalidation_1-auc:0.62619\n",
      "Multiple eval metrics have been passed: 'validation_1-auc' will be used for early stopping.\n",
      "\n",
      "Will train until validation_1-auc hasn't improved in 10 rounds.\n",
      "[1]\tvalidation_0-auc:0.65180\tvalidation_1-auc:0.64146\n",
      "[2]\tvalidation_0-auc:0.65975\tvalidation_1-auc:0.64081\n",
      "[3]\tvalidation_0-auc:0.66316\tvalidation_1-auc:0.64568\n",
      "[4]\tvalidation_0-auc:0.66507\tvalidation_1-auc:0.64715\n",
      "[5]\tvalidation_0-auc:0.66587\tvalidation_1-auc:0.64885\n",
      "[6]\tvalidation_0-auc:0.66769\tvalidation_1-auc:0.65033\n",
      "[7]\tvalidation_0-auc:0.66859\tvalidation_1-auc:0.65160\n",
      "[8]\tvalidation_0-auc:0.66951\tvalidation_1-auc:0.65209\n",
      "[9]\tvalidation_0-auc:0.67085\tvalidation_1-auc:0.65303\n",
      "[10]\tvalidation_0-auc:0.67165\tvalidation_1-auc:0.65382\n",
      "[11]\tvalidation_0-auc:0.67350\tvalidation_1-auc:0.65447\n",
      "[12]\tvalidation_0-auc:0.67489\tvalidation_1-auc:0.65578\n",
      "[13]\tvalidation_0-auc:0.67719\tvalidation_1-auc:0.65775\n",
      "[14]\tvalidation_0-auc:0.67867\tvalidation_1-auc:0.65854\n",
      "[15]\tvalidation_0-auc:0.68006\tvalidation_1-auc:0.65963\n",
      "[16]\tvalidation_0-auc:0.68184\tvalidation_1-auc:0.66117\n",
      "[17]\tvalidation_0-auc:0.68389\tvalidation_1-auc:0.66183\n",
      "[18]\tvalidation_0-auc:0.68487\tvalidation_1-auc:0.66280\n",
      "[19]\tvalidation_0-auc:0.68687\tvalidation_1-auc:0.66369\n",
      "[20]\tvalidation_0-auc:0.68779\tvalidation_1-auc:0.66482\n",
      "[21]\tvalidation_0-auc:0.68928\tvalidation_1-auc:0.66567\n",
      "[22]\tvalidation_0-auc:0.69091\tvalidation_1-auc:0.66701\n",
      "[23]\tvalidation_0-auc:0.69190\tvalidation_1-auc:0.66701\n",
      "[24]\tvalidation_0-auc:0.69328\tvalidation_1-auc:0.66812\n",
      "[25]\tvalidation_0-auc:0.69383\tvalidation_1-auc:0.66839\n",
      "[26]\tvalidation_0-auc:0.69553\tvalidation_1-auc:0.66957\n",
      "[27]\tvalidation_0-auc:0.69710\tvalidation_1-auc:0.67026\n",
      "[28]\tvalidation_0-auc:0.69763\tvalidation_1-auc:0.67065\n",
      "[29]\tvalidation_0-auc:0.69811\tvalidation_1-auc:0.67071\n",
      "[30]\tvalidation_0-auc:0.69930\tvalidation_1-auc:0.67135\n",
      "[31]\tvalidation_0-auc:0.70016\tvalidation_1-auc:0.67100\n",
      "[32]\tvalidation_0-auc:0.70122\tvalidation_1-auc:0.67126\n",
      "[33]\tvalidation_0-auc:0.70186\tvalidation_1-auc:0.67138\n",
      "[34]\tvalidation_0-auc:0.70245\tvalidation_1-auc:0.67195\n",
      "[35]\tvalidation_0-auc:0.70362\tvalidation_1-auc:0.67319\n",
      "[36]\tvalidation_0-auc:0.70451\tvalidation_1-auc:0.67272\n",
      "[37]\tvalidation_0-auc:0.70530\tvalidation_1-auc:0.67302\n",
      "[38]\tvalidation_0-auc:0.70595\tvalidation_1-auc:0.67303\n",
      "[39]\tvalidation_0-auc:0.70666\tvalidation_1-auc:0.67346\n",
      "[40]\tvalidation_0-auc:0.70771\tvalidation_1-auc:0.67364\n",
      "[41]\tvalidation_0-auc:0.70836\tvalidation_1-auc:0.67356\n",
      "[42]\tvalidation_0-auc:0.70894\tvalidation_1-auc:0.67353\n",
      "[43]\tvalidation_0-auc:0.70934\tvalidation_1-auc:0.67404\n",
      "[44]\tvalidation_0-auc:0.71027\tvalidation_1-auc:0.67407\n",
      "[45]\tvalidation_0-auc:0.71111\tvalidation_1-auc:0.67451\n",
      "[46]\tvalidation_0-auc:0.71175\tvalidation_1-auc:0.67454\n",
      "[47]\tvalidation_0-auc:0.71248\tvalidation_1-auc:0.67497\n",
      "[48]\tvalidation_0-auc:0.71274\tvalidation_1-auc:0.67495\n",
      "[49]\tvalidation_0-auc:0.71329\tvalidation_1-auc:0.67512\n",
      "[50]\tvalidation_0-auc:0.71388\tvalidation_1-auc:0.67476\n",
      "[51]\tvalidation_0-auc:0.71472\tvalidation_1-auc:0.67525\n",
      "[52]\tvalidation_0-auc:0.71534\tvalidation_1-auc:0.67557\n",
      "[53]\tvalidation_0-auc:0.71596\tvalidation_1-auc:0.67571\n",
      "[54]\tvalidation_0-auc:0.71655\tvalidation_1-auc:0.67550\n",
      "[55]\tvalidation_0-auc:0.71694\tvalidation_1-auc:0.67546\n",
      "[56]\tvalidation_0-auc:0.71720\tvalidation_1-auc:0.67539\n",
      "[57]\tvalidation_0-auc:0.71788\tvalidation_1-auc:0.67512\n",
      "[58]\tvalidation_0-auc:0.71874\tvalidation_1-auc:0.67537\n",
      "[59]\tvalidation_0-auc:0.71918\tvalidation_1-auc:0.67521\n",
      "[60]\tvalidation_0-auc:0.71986\tvalidation_1-auc:0.67536\n",
      "[61]\tvalidation_0-auc:0.72061\tvalidation_1-auc:0.67528\n",
      "[62]\tvalidation_0-auc:0.72112\tvalidation_1-auc:0.67527\n",
      "[63]\tvalidation_0-auc:0.72163\tvalidation_1-auc:0.67515\n",
      "Stopping. Best iteration:\n",
      "[53]\tvalidation_0-auc:0.71596\tvalidation_1-auc:0.67571\n",
      "\n"
     ]
    },
    {
     "data": {
      "text/plain": [
       "XGBClassifier(base_score=0.5, booster='gbtree', colsample_bylevel=1,\n",
       "              colsample_bynode=1, colsample_bytree=0.8, eta=0.3, gamma=0,\n",
       "              gpu_id=-1, importance_type='gain', interaction_constraints='',\n",
       "              learning_rate=0.300000012, max_delta_step=0, max_depth=8,\n",
       "              min_child_weight=300, missing=nan, monotone_constraints='()',\n",
       "              n_estimators=1000, n_jobs=0, num_parallel_tree=1,\n",
       "              objective='binary:logistic', random_state=42, reg_alpha=0,\n",
       "              reg_lambda=1, scale_pos_weight=1, seed=42, subsample=0.8,\n",
       "              tree_method='exact', validate_parameters=1, verbosity=None)"
      ]
     },
     "execution_count": 33,
     "metadata": {},
     "output_type": "execute_result"
    }
   ],
   "source": [
    "# 使用XGBoost\n",
    "model = xgb.XGBClassifier(\n",
    "    max_depth=8,\n",
    "    n_estimators=1000,\n",
    "    min_child_weight=300, \n",
    "    colsample_bytree=0.8, \n",
    "    subsample=0.8, \n",
    "    eta=0.3,    \n",
    "    seed=42    \n",
    ")\n",
    "model.fit(\n",
    "    X_train, y_train,\n",
    "    eval_metric='auc', eval_set=[(X_train, y_train), (X_valid, y_valid)],\n",
    "    verbose=True,\n",
    "    #早停法，如果auc在10epoch没有进步就stop\n",
    "    early_stopping_rounds=10 \n",
    ")"
   ]
  },
  {
   "cell_type": "code",
   "execution_count": 34,
   "metadata": {},
   "outputs": [
    {
     "data": {
      "text/plain": [
       "XGBClassifier(base_score=0.5, booster='gbtree', colsample_bylevel=1,\n",
       "              colsample_bynode=1, colsample_bytree=0.8, eta=0.3, gamma=0,\n",
       "              gpu_id=-1, importance_type='gain', interaction_constraints='',\n",
       "              learning_rate=0.300000012, max_delta_step=0, max_depth=8,\n",
       "              min_child_weight=300, missing=nan, monotone_constraints='()',\n",
       "              n_estimators=1000, n_jobs=0, num_parallel_tree=1,\n",
       "              objective='binary:logistic', random_state=42, reg_alpha=0,\n",
       "              reg_lambda=1, scale_pos_weight=1, seed=42, subsample=0.8,\n",
       "              tree_method='exact', validate_parameters=1, verbosity=None)"
      ]
     },
     "execution_count": 34,
     "metadata": {},
     "output_type": "execute_result"
    }
   ],
   "source": [
    "model.fit(X_train, y_train)"
   ]
  },
  {
   "cell_type": "code",
   "execution_count": 35,
   "metadata": {},
   "outputs": [],
   "source": [
    "prob = model.predict_proba(test_data)\n",
    "submission['prob'] = pd.Series(prob[:,1])\n",
    "submission.drop(['origin'], axis=1, inplace=True)\n",
    "submission.to_csv('prediction2.csv', index=False)"
   ]
  },
  {
   "cell_type": "code",
   "execution_count": null,
   "metadata": {},
   "outputs": [],
   "source": []
  }
 ],
 "metadata": {
  "kernelspec": {
   "display_name": "Python 3",
   "language": "python",
   "name": "python3"
  },
  "language_info": {
   "codemirror_mode": {
    "name": "ipython",
    "version": 3
   },
   "file_extension": ".py",
   "mimetype": "text/x-python",
   "name": "python",
   "nbconvert_exporter": "python",
   "pygments_lexer": "ipython3",
   "version": "3.7.6"
  }
 },
 "nbformat": 4,
 "nbformat_minor": 4
}
