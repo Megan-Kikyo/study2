{
 "cells": [
  {
   "cell_type": "code",
   "execution_count": 2,
   "metadata": {},
   "outputs": [],
   "source": [
    "#####导入相关包#####\n",
    "from ortools.constraint_solver import routing_enums_pb2\n",
    "from ortools.constraint_solver import pywrapcp\n",
    "import pandas as pd"
   ]
  },
  {
   "cell_type": "code",
   "execution_count": 16,
   "metadata": {},
   "outputs": [],
   "source": [
    "####函数#####\n",
    "class tsp(object):\n",
    "    \n",
    "    def _init_(self):\n",
    "        self.df=pd.read_excel('./cities.xlsx')\n",
    "        \n",
    "    def create_data_model(self):\n",
    "        data = {}\n",
    "        temp=pd.read_excel('./distance.xlsx',index_col=0)\n",
    "#         print(temp)\n",
    "        data['distance_matrix']=temp.values/1000\n",
    "#         print(data['distance_matrix'])\n",
    "        data['num_vehicles'] = 1\n",
    "        data['depot'] = 0\n",
    "        return data\n",
    "    \n",
    "    def get_solution(self,manager, routing, solution):\n",
    "        print('总行驶里程: {} 公里'.format(solution.ObjectiveValue()))\n",
    "        index = routing.Start(0)\n",
    "#         plan_output = '车辆的路径:\\n'\n",
    "        route=[]\n",
    "        route_distance = 0\n",
    "        while not routing.IsEnd(index):\n",
    "#         plan_output += ' {} ->'.format(city_names[manager.IndexToNode(index)])\n",
    "            index_show=manager.IndexToNode(index)\n",
    "            route.append(index_show)\n",
    "            previous_index = index\n",
    "            index = solution.Value(routing.NextVar(index))\n",
    "            route_distance += routing.GetArcCostForVehicle(previous_index, index, 0)\n",
    "#         plan_output += city_names[manager.IndexToNode(index)]\n",
    "#         print(plan_output)\n",
    "#         print('{}公里'.format(route_distance))\n",
    "        return route,route_distance\n",
    "\n",
    "    def work(self):\n",
    "        # 初始化数据\n",
    "        data = self.create_data_model()\n",
    "\n",
    "        # 创建路线管理，tsp_size（城市数量）, num_vehicles（车的数量）, depot（原点）\n",
    "        manager = pywrapcp.RoutingIndexManager(len(data['distance_matrix']),\n",
    "                                               data['num_vehicles'], data['depot'])\n",
    "\n",
    "        # 创建 Routing Model.\n",
    "        routing = pywrapcp.RoutingModel(manager)\n",
    "\n",
    "        # 计算两点之间的距离\n",
    "        def distance_callback(from_index, to_index):\n",
    "            # Convert from routing variable Index to distance matrix NodeIndex.\n",
    "            from_node = manager.IndexToNode(from_index)\n",
    "            to_node = manager.IndexToNode(to_index)\n",
    "            return data['distance_matrix'][from_node][to_node]\n",
    "\n",
    "        transit_callback_index = routing.RegisterTransitCallback(distance_callback)\n",
    "\n",
    "        # Define cost of each arc.\n",
    "        routing.SetArcCostEvaluatorOfAllVehicles(transit_callback_index)\n",
    "\n",
    "        # Setting first solution heuristic.\n",
    "        search_parameters = pywrapcp.DefaultRoutingSearchParameters()\n",
    "        search_parameters.first_solution_strategy = (\n",
    "            routing_enums_pb2.FirstSolutionStrategy.PATH_CHEAPEST_ARC)\n",
    "\n",
    "        # 求解路径规划\n",
    "        solution = routing.SolveWithParameters(search_parameters)\n",
    "        # 输出结果\n",
    "        route,route_distance=self.get_solution(manager, routing, solution)\n",
    "        return route,route_distance           "
   ]
  },
  {
   "cell_type": "code",
   "execution_count": 18,
   "metadata": {},
   "outputs": [
    {
     "name": "stdout",
     "output_type": "stream",
     "text": [
      "总行驶里程: 19799 公里\n",
      "[0, 6, 22, 21, 23, 24, 26, 27, 25, 12, 32, 11, 31, 30, 10, 9, 8, 15, 13, 28, 29, 14, 20, 17, 18, 19, 7, 5, 16, 1, 4, 2, 3]\n",
      "19799\n"
     ]
    }
   ],
   "source": [
    "### 运行主函数 ###\n",
    "if __name__ == '__main__':\n",
    "    model=tsp()\n",
    "    route,route_distance=model.work()\n",
    "    print(route)\n",
    "    print(route_distance)"
   ]
  },
  {
   "cell_type": "code",
   "execution_count": null,
   "metadata": {},
   "outputs": [],
   "source": []
  }
 ],
 "metadata": {
  "kernelspec": {
   "display_name": "Python 3",
   "language": "python",
   "name": "python3"
  },
  "language_info": {
   "codemirror_mode": {
    "name": "ipython",
    "version": 3
   },
   "file_extension": ".py",
   "mimetype": "text/x-python",
   "name": "python",
   "nbconvert_exporter": "python",
   "pygments_lexer": "ipython3",
   "version": "3.7.6"
  }
 },
 "nbformat": 4,
 "nbformat_minor": 4
}
