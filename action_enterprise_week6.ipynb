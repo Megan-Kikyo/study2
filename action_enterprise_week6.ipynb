{
 "cells": [
  {
   "cell_type": "code",
   "execution_count": 1,
   "metadata": {},
   "outputs": [],
   "source": [
    "####### 对微博进行相似句子Top-5查询######\n",
    "#导入相关包#\n",
    "from datasketch import MinHash, MinHashLSH, MinHashLSHForest\n",
    "from sklearn.feature_extraction.text import TfidfVectorizer\n",
    "import jieba.posseg as pseg\n",
    "import re\n",
    "import os\n",
    "\n",
    "#读取文件#\n",
    "os.chdir('D:\\\\开课吧数据挖掘资料\\\\第六讲—名企—近邻邻域查找与youtub推荐\\\\L6')\n",
    "f = open('./weibos.txt', 'r', encoding='UTF-8')\n",
    "text = f.read()"
   ]
  },
  {
   "cell_type": "code",
   "execution_count": 3,
   "metadata": {},
   "outputs": [],
   "source": [
    "##数据处理##\n",
    "\n",
    "# 以#号 句号，双引号，叹号，问号作为分隔，去掉\\n换行符号 切割为句子\n",
    "sentences_raw = re.split('[# 。” ！？]',text.replace('\\n', ''))\n",
    "\n",
    "# 如果为空，则删除.即保留有值的字段\n",
    "sentences=[]\n",
    "for i in sentences_raw:\n",
    "    if len(i)>0:\n",
    "        sentences.append(i)        "
   ]
  },
  {
   "cell_type": "code",
   "execution_count": 5,
   "metadata": {},
   "outputs": [],
   "source": [
    "##macro##\n",
    "\n",
    "# 将item_text进行分词\n",
    "def get_item_str(item_text):\n",
    "    item_str = \"\" \n",
    "    item=(pseg.cut(item_text)) \n",
    "    for i in list(item):\n",
    "        #去掉停用词\n",
    "        if i.word not in list(stop):  \n",
    "            item_str += i.word\n",
    "            #tfidf_vectorizer.fit_transform的输入需要空格分隔的单词\n",
    "            item_str += \" \"\n",
    "    return item_str\n",
    "# 对item_str创建MinHash\n",
    "def get_minhash(item_str):\n",
    "    temp = MinHash()\n",
    "    for d in item_str:\n",
    "        temp.update(d.encode('utf8'))\n",
    "    return temp\n",
    "\n",
    "# 设置停用词 暂无停用词\n",
    "stop = [line.strip().decode('utf-8') for line in open('stopword.txt').readlines()]"
   ]
  },
  {
   "cell_type": "code",
   "execution_count": 6,
   "metadata": {},
   "outputs": [
    {
     "name": "stderr",
     "output_type": "stream",
     "text": [
      "Building prefix dict from the default dictionary ...\n",
      "Loading model from cache C:\\Users\\ADMINI~1\\AppData\\Local\\Temp\\jieba.cache\n",
      "Loading model cost 1.316 seconds.\n",
      "Prefix dict has been built successfully.\n"
     ]
    }
   ],
   "source": [
    "## 微博文档 创建LSH Forest及MinHash对象 运行##\n",
    "\n",
    "# 得到分词后的documents\n",
    "documents = []\n",
    "for item_text in sentences:\n",
    "    # 将item_text进行分词\n",
    "    item_str = get_item_str(item_text)\n",
    "    documents.append(item_str)\n",
    "\n",
    "# 创建LSH Forest及MinHash对象\n",
    "minhash_list = []\n",
    "forest = MinHashLSHForest()\n",
    "for i in range(len(documents)):\n",
    "    #得到train_documents[i]的MinHash\n",
    "    temp = get_minhash(documents[i])\n",
    "    minhash_list.append(temp)\n",
    "    forest.add(i, temp)\n",
    "    \n",
    "# index所有key，以便可以进行检索   \n",
    "forest.index()"
   ]
  },
  {
   "cell_type": "code",
   "execution_count": 11,
   "metadata": {},
   "outputs": [
    {
     "name": "stdout",
     "output_type": "stream",
     "text": [
      "**************************************************斯科拉里水平不行,Top 5相似语句输出**************************************************\n",
      "0 0.2890625 斯科拉里愿意执教国足\n",
      "33 0.421875 大家支持斯科拉里不\n",
      "16 0.625 斯科拉里的水平，还不如里皮\n",
      "17 0.2890625 斯科拉里，看好的不是国足，而是年薪……\n",
      "31 0.1640625 ​带队结果绝不会比里皮更差，\n"
     ]
    }
   ],
   "source": [
    "##查询语句运行，输出原文档top 5相似语句##\n",
    "\n",
    "query = '斯科拉里水平不行'\n",
    "# 将item_text进行分词\n",
    "item_str = get_item_str(query)\n",
    "# 得到item_str的MinHash\n",
    "minhash_query = get_minhash(item_str)\n",
    "\n",
    "# 查询forest中与m1相似的Top-K个邻居\n",
    "result = forest.query(minhash_query, 5)\n",
    "print(\"*\"*50+\"斯科拉里水平不行,Top 5相似语句输出\"+\"*\"*50)\n",
    "for i in range(len(result)):\n",
    "    print(result[i], minhash_query.jaccard(minhash_list[result[i]]), documents[result[i]].replace(' ', ''))"
   ]
  }
 ],
 "metadata": {
  "kernelspec": {
   "display_name": "Python 3",
   "language": "python",
   "name": "python3"
  },
  "language_info": {
   "codemirror_mode": {
    "name": "ipython",
    "version": 3
   },
   "file_extension": ".py",
   "mimetype": "text/x-python",
   "name": "python",
   "nbconvert_exporter": "python",
   "pygments_lexer": "ipython3",
   "version": "3.7.3"
  }
 },
 "nbformat": 4,
 "nbformat_minor": 2
}
