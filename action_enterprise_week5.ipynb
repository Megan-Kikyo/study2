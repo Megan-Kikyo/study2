{
  "nbformat": 4,
  "nbformat_minor": 0,
  "metadata": {
    "colab": {
      "name": "action_enterprise_week5.ipynb",
      "provenance": []
    },
    "kernelspec": {
      "name": "python3",
      "display_name": "Python 3"
    }
  },
  "cells": [
    {
      "cell_type": "code",
      "metadata": {
        "id": "ZN_r5xILwCLD",
        "colab_type": "code",
        "colab": {}
      },
      "source": [
        "import os\n",
        "import pandas\n",
        "from google.colab import drive\n",
        "import os\n",
        "os.chdir(\"/content/drive/My Drive/Colab Notebooks/\")"
      ],
      "execution_count": null,
      "outputs": []
    },
    {
      "cell_type": "code",
      "metadata": {
        "id": "dN0CpwVbwPHQ",
        "colab_type": "code",
        "colab": {
          "base_uri": "https://localhost:8080/",
          "height": 179
        },
        "outputId": "99cb2639-b6db-485b-ec8f-c07c10846707"
      },
      "source": [
        "import pandas as pd\n",
        "from sklearn.metrics import mean_squared_error\n",
        "from sklearn.model_selection import train_test_split\n",
        "from sklearn.preprocessing import LabelEncoder\n",
        "%pip install deepctr\n",
        "from deepctr.models import WDL\n",
        "from deepctr.feature_column import SparseFeat,get_feature_names"
      ],
      "execution_count": null,
      "outputs": [
        {
          "output_type": "stream",
          "text": [
            "Requirement already satisfied: deepctr in /usr/local/lib/python3.6/dist-packages (0.8.1)\n",
            "Requirement already satisfied: h5py in /usr/local/lib/python3.6/dist-packages (from deepctr) (2.10.0)\n",
            "Requirement already satisfied: requests in /usr/local/lib/python3.6/dist-packages (from deepctr) (2.23.0)\n",
            "Requirement already satisfied: six in /usr/local/lib/python3.6/dist-packages (from h5py->deepctr) (1.15.0)\n",
            "Requirement already satisfied: numpy>=1.7 in /usr/local/lib/python3.6/dist-packages (from h5py->deepctr) (1.18.5)\n",
            "Requirement already satisfied: idna<3,>=2.5 in /usr/local/lib/python3.6/dist-packages (from requests->deepctr) (2.10)\n",
            "Requirement already satisfied: urllib3!=1.25.0,!=1.25.1,<1.26,>=1.21.1 in /usr/local/lib/python3.6/dist-packages (from requests->deepctr) (1.24.3)\n",
            "Requirement already satisfied: chardet<4,>=3.0.2 in /usr/local/lib/python3.6/dist-packages (from requests->deepctr) (3.0.4)\n",
            "Requirement already satisfied: certifi>=2017.4.17 in /usr/local/lib/python3.6/dist-packages (from requests->deepctr) (2020.6.20)\n"
          ],
          "name": "stdout"
        }
      ]
    },
    {
      "cell_type": "code",
      "metadata": {
        "id": "w000hU9m50Xt",
        "colab_type": "code",
        "colab": {
          "base_uri": "https://localhost:8080/",
          "height": 204
        },
        "outputId": "d6342fc5-99e4-4c5a-af79-14c453ca6a5d"
      },
      "source": [
        "data = pd.read_csv(\"movielens_sample.txt\")\n",
        "sparse_features = [\"movie_id\", \"user_id\", \"gender\", \"age\", \"occupation\", \"zip\"]\n",
        "target = ['rating']\n",
        "data.head()\n"
      ],
      "execution_count": null,
      "outputs": [
        {
          "output_type": "execute_result",
          "data": {
            "text/html": [
              "<div>\n",
              "<style scoped>\n",
              "    .dataframe tbody tr th:only-of-type {\n",
              "        vertical-align: middle;\n",
              "    }\n",
              "\n",
              "    .dataframe tbody tr th {\n",
              "        vertical-align: top;\n",
              "    }\n",
              "\n",
              "    .dataframe thead th {\n",
              "        text-align: right;\n",
              "    }\n",
              "</style>\n",
              "<table border=\"1\" class=\"dataframe\">\n",
              "  <thead>\n",
              "    <tr style=\"text-align: right;\">\n",
              "      <th></th>\n",
              "      <th>user_id</th>\n",
              "      <th>movie_id</th>\n",
              "      <th>rating</th>\n",
              "      <th>timestamp</th>\n",
              "      <th>title</th>\n",
              "      <th>genres</th>\n",
              "      <th>gender</th>\n",
              "      <th>age</th>\n",
              "      <th>occupation</th>\n",
              "      <th>zip</th>\n",
              "    </tr>\n",
              "  </thead>\n",
              "  <tbody>\n",
              "    <tr>\n",
              "      <th>0</th>\n",
              "      <td>3299</td>\n",
              "      <td>235</td>\n",
              "      <td>4</td>\n",
              "      <td>968035345</td>\n",
              "      <td>Ed Wood (1994)</td>\n",
              "      <td>Comedy|Drama</td>\n",
              "      <td>F</td>\n",
              "      <td>25</td>\n",
              "      <td>4</td>\n",
              "      <td>19119</td>\n",
              "    </tr>\n",
              "    <tr>\n",
              "      <th>1</th>\n",
              "      <td>3630</td>\n",
              "      <td>3256</td>\n",
              "      <td>3</td>\n",
              "      <td>966536874</td>\n",
              "      <td>Patriot Games (1992)</td>\n",
              "      <td>Action|Thriller</td>\n",
              "      <td>M</td>\n",
              "      <td>18</td>\n",
              "      <td>4</td>\n",
              "      <td>77005</td>\n",
              "    </tr>\n",
              "    <tr>\n",
              "      <th>2</th>\n",
              "      <td>517</td>\n",
              "      <td>105</td>\n",
              "      <td>4</td>\n",
              "      <td>976203603</td>\n",
              "      <td>Bridges of Madison County, The (1995)</td>\n",
              "      <td>Drama|Romance</td>\n",
              "      <td>F</td>\n",
              "      <td>25</td>\n",
              "      <td>14</td>\n",
              "      <td>55408</td>\n",
              "    </tr>\n",
              "    <tr>\n",
              "      <th>3</th>\n",
              "      <td>785</td>\n",
              "      <td>2115</td>\n",
              "      <td>3</td>\n",
              "      <td>975430389</td>\n",
              "      <td>Indiana Jones and the Temple of Doom (1984)</td>\n",
              "      <td>Action|Adventure</td>\n",
              "      <td>M</td>\n",
              "      <td>18</td>\n",
              "      <td>19</td>\n",
              "      <td>29307</td>\n",
              "    </tr>\n",
              "    <tr>\n",
              "      <th>4</th>\n",
              "      <td>5848</td>\n",
              "      <td>909</td>\n",
              "      <td>5</td>\n",
              "      <td>957782527</td>\n",
              "      <td>Apartment, The (1960)</td>\n",
              "      <td>Comedy|Drama</td>\n",
              "      <td>M</td>\n",
              "      <td>50</td>\n",
              "      <td>20</td>\n",
              "      <td>20009</td>\n",
              "    </tr>\n",
              "  </tbody>\n",
              "</table>\n",
              "</div>"
            ],
            "text/plain": [
              "   user_id  movie_id  rating  timestamp  ... gender age occupation    zip\n",
              "0     3299       235       4  968035345  ...      F  25          4  19119\n",
              "1     3630      3256       3  966536874  ...      M  18          4  77005\n",
              "2      517       105       4  976203603  ...      F  25         14  55408\n",
              "3      785      2115       3  975430389  ...      M  18         19  29307\n",
              "4     5848       909       5  957782527  ...      M  50         20  20009\n",
              "\n",
              "[5 rows x 10 columns]"
            ]
          },
          "metadata": {
            "tags": []
          },
          "execution_count": 9
        }
      ]
    },
    {
      "cell_type": "code",
      "metadata": {
        "id": "N_uoakGN9neT",
        "colab_type": "code",
        "colab": {}
      },
      "source": [
        "# 对特征标签进行编码\n",
        "for feature in sparse_features:\n",
        "    lbe = LabelEncoder()\n",
        "    data[feature] = lbe.fit_transform(data[feature])"
      ],
      "execution_count": null,
      "outputs": []
    },
    {
      "cell_type": "code",
      "metadata": {
        "id": "SvajF6sj-HAH",
        "colab_type": "code",
        "colab": {
          "base_uri": "https://localhost:8080/",
          "height": 204
        },
        "outputId": "78ce32bf-360e-41e9-a772-bb33ec239525"
      },
      "source": [
        "data.head()"
      ],
      "execution_count": null,
      "outputs": [
        {
          "output_type": "execute_result",
          "data": {
            "text/html": [
              "<div>\n",
              "<style scoped>\n",
              "    .dataframe tbody tr th:only-of-type {\n",
              "        vertical-align: middle;\n",
              "    }\n",
              "\n",
              "    .dataframe tbody tr th {\n",
              "        vertical-align: top;\n",
              "    }\n",
              "\n",
              "    .dataframe thead th {\n",
              "        text-align: right;\n",
              "    }\n",
              "</style>\n",
              "<table border=\"1\" class=\"dataframe\">\n",
              "  <thead>\n",
              "    <tr style=\"text-align: right;\">\n",
              "      <th></th>\n",
              "      <th>user_id</th>\n",
              "      <th>movie_id</th>\n",
              "      <th>rating</th>\n",
              "      <th>timestamp</th>\n",
              "      <th>title</th>\n",
              "      <th>genres</th>\n",
              "      <th>gender</th>\n",
              "      <th>age</th>\n",
              "      <th>occupation</th>\n",
              "      <th>zip</th>\n",
              "    </tr>\n",
              "  </thead>\n",
              "  <tbody>\n",
              "    <tr>\n",
              "      <th>0</th>\n",
              "      <td>107</td>\n",
              "      <td>12</td>\n",
              "      <td>4</td>\n",
              "      <td>968035345</td>\n",
              "      <td>Ed Wood (1994)</td>\n",
              "      <td>Comedy|Drama</td>\n",
              "      <td>0</td>\n",
              "      <td>2</td>\n",
              "      <td>4</td>\n",
              "      <td>35</td>\n",
              "    </tr>\n",
              "    <tr>\n",
              "      <th>1</th>\n",
              "      <td>123</td>\n",
              "      <td>169</td>\n",
              "      <td>3</td>\n",
              "      <td>966536874</td>\n",
              "      <td>Patriot Games (1992)</td>\n",
              "      <td>Action|Thriller</td>\n",
              "      <td>1</td>\n",
              "      <td>1</td>\n",
              "      <td>4</td>\n",
              "      <td>118</td>\n",
              "    </tr>\n",
              "    <tr>\n",
              "      <th>2</th>\n",
              "      <td>12</td>\n",
              "      <td>6</td>\n",
              "      <td>4</td>\n",
              "      <td>976203603</td>\n",
              "      <td>Bridges of Madison County, The (1995)</td>\n",
              "      <td>Drama|Romance</td>\n",
              "      <td>0</td>\n",
              "      <td>2</td>\n",
              "      <td>13</td>\n",
              "      <td>99</td>\n",
              "    </tr>\n",
              "    <tr>\n",
              "      <th>3</th>\n",
              "      <td>21</td>\n",
              "      <td>112</td>\n",
              "      <td>3</td>\n",
              "      <td>975430389</td>\n",
              "      <td>Indiana Jones and the Temple of Doom (1984)</td>\n",
              "      <td>Action|Adventure</td>\n",
              "      <td>1</td>\n",
              "      <td>1</td>\n",
              "      <td>18</td>\n",
              "      <td>55</td>\n",
              "    </tr>\n",
              "    <tr>\n",
              "      <th>4</th>\n",
              "      <td>187</td>\n",
              "      <td>45</td>\n",
              "      <td>5</td>\n",
              "      <td>957782527</td>\n",
              "      <td>Apartment, The (1960)</td>\n",
              "      <td>Comedy|Drama</td>\n",
              "      <td>1</td>\n",
              "      <td>5</td>\n",
              "      <td>19</td>\n",
              "      <td>41</td>\n",
              "    </tr>\n",
              "  </tbody>\n",
              "</table>\n",
              "</div>"
            ],
            "text/plain": [
              "   user_id  movie_id  rating  timestamp  ... gender age  occupation  zip\n",
              "0      107        12       4  968035345  ...      0   2           4   35\n",
              "1      123       169       3  966536874  ...      1   1           4  118\n",
              "2       12         6       4  976203603  ...      0   2          13   99\n",
              "3       21       112       3  975430389  ...      1   1          18   55\n",
              "4      187        45       5  957782527  ...      1   5          19   41\n",
              "\n",
              "[5 rows x 10 columns]"
            ]
          },
          "metadata": {
            "tags": []
          },
          "execution_count": 12
        }
      ]
    },
    {
      "cell_type": "code",
      "metadata": {
        "id": "iw7vpYJX-iV3",
        "colab_type": "code",
        "colab": {}
      },
      "source": [
        "# 计算每个特征中的 不同特征值的个数\n",
        "fixlen_feature_columns = [SparseFeat(feature, data[feature].nunique()) for feature in sparse_features]\n",
        "linear_feature_columns = fixlen_feature_columns\n",
        "dnn_feature_columns = fixlen_feature_columns\n",
        "feature_names = get_feature_names(linear_feature_columns + dnn_feature_columns)\n"
      ],
      "execution_count": null,
      "outputs": []
    },
    {
      "cell_type": "code",
      "metadata": {
        "id": "YC6tmMWc-tRR",
        "colab_type": "code",
        "colab": {}
      },
      "source": [
        "# 将数据集切分成训练集和测试集\n",
        "train, test = train_test_split(data, test_size=0.2)\n",
        "train_model_input = {name:train[name].values for name in feature_names}\n",
        "test_model_input = {name:test[name].values for name in feature_names}"
      ],
      "execution_count": 15,
      "outputs": []
    },
    {
      "cell_type": "code",
      "metadata": {
        "id": "dmxZWDDK_K4X",
        "colab_type": "code",
        "colab": {
          "base_uri": "https://localhost:8080/",
          "height": 469
        },
        "outputId": "c00bf538-2e42-4b4b-c28a-b3a2fe2dae44"
      },
      "source": [
        "# 使用WDL进行训练\n",
        "model = WDL(linear_feature_columns, dnn_feature_columns, task='regression')\n",
        "model.compile(\"adam\", \"mse\", metrics=['mse'], )\n",
        "history = model.fit(train_model_input, train[target].values, batch_size=256, epochs=11, verbose=True, validation_split=0.2, )\n"
      ],
      "execution_count": 21,
      "outputs": [
        {
          "output_type": "stream",
          "text": [
            "Epoch 1/11\n"
          ],
          "name": "stdout"
        },
        {
          "output_type": "stream",
          "text": [
            "/usr/local/lib/python3.6/dist-packages/tensorflow/python/framework/indexed_slices.py:432: UserWarning: Converting sparse IndexedSlices to a dense Tensor of unknown shape. This may consume a large amount of memory.\n",
            "  \"Converting sparse IndexedSlices to a dense Tensor of unknown shape. \"\n"
          ],
          "name": "stderr"
        },
        {
          "output_type": "stream",
          "text": [
            "1/1 [==============================] - 0s 283ms/step - loss: 13.7655 - mse: 13.7655 - val_loss: 15.5737 - val_mse: 15.5737\n",
            "Epoch 2/11\n",
            "1/1 [==============================] - 0s 19ms/step - loss: 13.6346 - mse: 13.6346 - val_loss: 15.4515 - val_mse: 15.4515\n",
            "Epoch 3/11\n",
            "1/1 [==============================] - 0s 18ms/step - loss: 13.4929 - mse: 13.4929 - val_loss: 15.3208 - val_mse: 15.3208\n",
            "Epoch 4/11\n",
            "1/1 [==============================] - 0s 20ms/step - loss: 13.3424 - mse: 13.3424 - val_loss: 15.1830 - val_mse: 15.1830\n",
            "Epoch 5/11\n",
            "1/1 [==============================] - 0s 18ms/step - loss: 13.1834 - mse: 13.1834 - val_loss: 15.0372 - val_mse: 15.0372\n",
            "Epoch 6/11\n",
            "1/1 [==============================] - 0s 18ms/step - loss: 13.0157 - mse: 13.0157 - val_loss: 14.8828 - val_mse: 14.8828\n",
            "Epoch 7/11\n",
            "1/1 [==============================] - 0s 20ms/step - loss: 12.8388 - mse: 12.8388 - val_loss: 14.7192 - val_mse: 14.7192\n",
            "Epoch 8/11\n",
            "1/1 [==============================] - 0s 20ms/step - loss: 12.6518 - mse: 12.6518 - val_loss: 14.5460 - val_mse: 14.5460\n",
            "Epoch 9/11\n",
            "1/1 [==============================] - 0s 21ms/step - loss: 12.4542 - mse: 12.4542 - val_loss: 14.3622 - val_mse: 14.3622\n",
            "Epoch 10/11\n",
            "1/1 [==============================] - 0s 24ms/step - loss: 12.2449 - mse: 12.2449 - val_loss: 14.1673 - val_mse: 14.1673\n",
            "Epoch 11/11\n",
            "1/1 [==============================] - 0s 20ms/step - loss: 12.0233 - mse: 12.0233 - val_loss: 13.9605 - val_mse: 13.9605\n"
          ],
          "name": "stdout"
        }
      ]
    },
    {
      "cell_type": "code",
      "metadata": {
        "id": "NHV2Yb7W_bJ8",
        "colab_type": "code",
        "colab": {
          "base_uri": "https://localhost:8080/",
          "height": 35
        },
        "outputId": "f5b89b58-dc84-4f83-da78-6b336ad76a99"
      },
      "source": [
        "# 使用WDL进行预测\n",
        "pred_ans = model.predict(test_model_input, batch_size=256)\n",
        "# 输出RMSE或MSE\n",
        "mse = round(mean_squared_error(test[target].values, pred_ans), 4)\n",
        "rmse = mse ** 0.5\n",
        "#print(\"test MSE\", mse)\n",
        "print(\"test RMSE\", rmse)"
      ],
      "execution_count": 22,
      "outputs": [
        {
          "output_type": "stream",
          "text": [
            "test RMSE 3.522825570476063\n"
          ],
          "name": "stdout"
        }
      ]
    }
  ]
}