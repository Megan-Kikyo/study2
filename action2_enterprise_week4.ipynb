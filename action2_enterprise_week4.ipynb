{
  "nbformat": 4,
  "nbformat_minor": 0,
  "metadata": {
    "colab": {
      "name": "Untitled0.ipynb",
      "provenance": []
    },
    "kernelspec": {
      "name": "python3",
      "display_name": "Python 3"
    }
  },
  "cells": [
    {
      "cell_type": "code",
      "metadata": {
        "id": "nLUaKXLLfSEj",
        "colab_type": "code",
        "colab": {
          "base_uri": "https://localhost:8080/",
          "height": 35
        },
        "outputId": "aaf934e4-663a-483d-d3c7-dad58591d84b"
      },
      "source": [
        "import os\n",
        "import pandas\n",
        "from google.colab import drive\n",
        "os.getcwd()\n"
      ],
      "execution_count": 1,
      "outputs": [
        {
          "output_type": "execute_result",
          "data": {
            "application/vnd.google.colaboratory.intrinsic+json": {
              "type": "string"
            },
            "text/plain": [
              "'/content'"
            ]
          },
          "metadata": {
            "tags": []
          },
          "execution_count": 1
        }
      ]
    },
    {
      "cell_type": "code",
      "metadata": {
        "id": "DuoiXphohExI",
        "colab_type": "code",
        "colab": {
          "base_uri": "https://localhost:8080/",
          "height": 35
        },
        "outputId": "3e90b150-7521-4c1c-9dba-b7f5885d59c6"
      },
      "source": [
        "from google.colab import drive\n",
        "drive.mount('/content/drive')"
      ],
      "execution_count": 3,
      "outputs": [
        {
          "output_type": "stream",
          "text": [
            "Mounted at /content/drive\n"
          ],
          "name": "stdout"
        }
      ]
    },
    {
      "cell_type": "code",
      "metadata": {
        "id": "I6ce7vt-GXt9",
        "colab_type": "code",
        "colab": {
          "base_uri": "https://localhost:8080/",
          "height": 325
        },
        "outputId": "ab010eae-ecba-4edc-aa95-52a46b2984b4"
      },
      "source": [
        "%pip install surprise\n",
        "from surprise import SVD\n",
        "from surprise import Dataset\n",
        "from surprise.model_selection import cross_validate\n",
        "from surprise import Reader\n",
        "from surprise import accuracy\n",
        "from surprise.model_selection import KFold"
      ],
      "execution_count": 5,
      "outputs": [
        {
          "output_type": "stream",
          "text": [
            "Collecting surprise\n",
            "  Downloading https://files.pythonhosted.org/packages/61/de/e5cba8682201fcf9c3719a6fdda95693468ed061945493dea2dd37c5618b/surprise-0.1-py2.py3-none-any.whl\n",
            "Collecting scikit-surprise\n",
            "\u001b[?25l  Downloading https://files.pythonhosted.org/packages/97/37/5d334adaf5ddd65da99fc65f6507e0e4599d092ba048f4302fe8775619e8/scikit-surprise-1.1.1.tar.gz (11.8MB)\n",
            "\u001b[K     |████████████████████████████████| 11.8MB 9.1MB/s \n",
            "\u001b[?25hRequirement already satisfied: joblib>=0.11 in /usr/local/lib/python3.6/dist-packages (from scikit-surprise->surprise) (0.16.0)\n",
            "Requirement already satisfied: numpy>=1.11.2 in /usr/local/lib/python3.6/dist-packages (from scikit-surprise->surprise) (1.18.5)\n",
            "Requirement already satisfied: scipy>=1.0.0 in /usr/local/lib/python3.6/dist-packages (from scikit-surprise->surprise) (1.4.1)\n",
            "Requirement already satisfied: six>=1.10.0 in /usr/local/lib/python3.6/dist-packages (from scikit-surprise->surprise) (1.15.0)\n",
            "Building wheels for collected packages: scikit-surprise\n",
            "  Building wheel for scikit-surprise (setup.py) ... \u001b[?25l\u001b[?25hdone\n",
            "  Created wheel for scikit-surprise: filename=scikit_surprise-1.1.1-cp36-cp36m-linux_x86_64.whl size=1670962 sha256=de2ac962d982ea8487bdc8d8ffcdd0c797107aa02a17505eddc64ff9aa21936b\n",
            "  Stored in directory: /root/.cache/pip/wheels/78/9c/3d/41b419c9d2aff5b6e2b4c0fc8d25c538202834058f9ed110d0\n",
            "Successfully built scikit-surprise\n",
            "Installing collected packages: scikit-surprise, surprise\n",
            "Successfully installed scikit-surprise-1.1.1 surprise-0.1\n"
          ],
          "name": "stdout"
        }
      ]
    },
    {
      "cell_type": "code",
      "metadata": {
        "id": "jORMQivKIZxf",
        "colab_type": "code",
        "colab": {}
      },
      "source": [
        "import os\n",
        "os.chdir(\"/content/drive/My Drive/Colab Notebooks/\")\n",
        "reader = Reader(line_format='user item rating timestamp', sep=',', skip_lines=1)\n",
        "data = Dataset.load_from_file('ratings.csv', reader=reader)"
      ],
      "execution_count": 6,
      "outputs": []
    },
    {
      "cell_type": "code",
      "metadata": {
        "id": "EU29ptYuKIub",
        "colab_type": "code",
        "colab": {}
      },
      "source": [
        "train_set = data.build_full_trainset()"
      ],
      "execution_count": 7,
      "outputs": []
    },
    {
      "cell_type": "code",
      "metadata": {
        "id": "MvnQxnNrKY-D",
        "colab_type": "code",
        "colab": {
          "base_uri": "https://localhost:8080/",
          "height": 35
        },
        "outputId": "6f74a0a1-211d-4c1f-f3f8-eb76b409f25f"
      },
      "source": [
        "type(data)"
      ],
      "execution_count": 8,
      "outputs": [
        {
          "output_type": "execute_result",
          "data": {
            "text/plain": [
              "surprise.dataset.DatasetAutoFolds"
            ]
          },
          "metadata": {
            "tags": []
          },
          "execution_count": 8
        }
      ]
    },
    {
      "cell_type": "code",
      "metadata": {
        "id": "f6f0OSEqKv8x",
        "colab_type": "code",
        "colab": {
          "base_uri": "https://localhost:8080/",
          "height": 107
        },
        "outputId": "aaab1092-a8fe-4821-ebaa-fac3c25ed493"
      },
      "source": [
        "### funkSVD算法预测 输出 ###\n",
        "algo = SVD(biased=False)\n",
        "\n",
        "print(\"FunkSVD算法预测\")\n",
        "\n",
        "# 定义K折交叉验证迭代器，K=3\n",
        "kf = KFold(n_splits=3)\n",
        "for trainset, testset in kf.split(data):\n",
        "    # 训练并预测\n",
        "    algo.fit(trainset)\n",
        "    predictions = algo.test(testset)\n",
        "    # 计算RMSE\n",
        "    accuracy.rmse(predictions, verbose=True)\n",
        "\n",
        "uid = str(196)\n",
        "iid = str(302)\n",
        "# 输出uid对iid的预测结果\n",
        "pred = algo.predict(uid, iid, r_ui=4, verbose=True)\n"
      ],
      "execution_count": 12,
      "outputs": [
        {
          "output_type": "stream",
          "text": [
            "FunkSVD算法预测\n",
            "RMSE: 0.8720\n",
            "RMSE: 0.8723\n",
            "RMSE: 0.8722\n",
            "user: 196        item: 302        r_ui = 4.00   est = 3.86   {'was_impossible': False}\n"
          ],
          "name": "stdout"
        }
      ]
    },
    {
      "cell_type": "code",
      "metadata": {
        "id": "PDY_1rm0K007",
        "colab_type": "code",
        "colab": {
          "base_uri": "https://localhost:8080/",
          "height": 107
        },
        "outputId": "278d69c4-cc8a-4cb4-e2d4-f367ba0b96da"
      },
      "source": [
        "### BiasSVD算法预测 输出 ###\n",
        "algo = SVD(biased=True)\n",
        "print(\"BiasSVD算法预测\")\n",
        "# 定义K折交叉验证迭代器，K=3\n",
        "kf = KFold(n_splits=3)\n",
        "for trainset, testset in kf.split(data):\n",
        "    # 训练并预测\n",
        "    algo.fit(trainset)\n",
        "    predictions = algo.test(testset)\n",
        "    # 计算RMSE\n",
        "    accuracy.rmse(predictions, verbose=True)\n",
        "\n",
        "uid = str(196)\n",
        "iid = str(302)\n",
        "# 输出uid对iid的预测结果\n",
        "\n",
        "pred = algo.predict(uid, iid, r_ui=4, verbose=True)"
      ],
      "execution_count": 13,
      "outputs": [
        {
          "output_type": "stream",
          "text": [
            "BiasSVD算法预测\n",
            "RMSE: 0.8464\n",
            "RMSE: 0.8451\n",
            "RMSE: 0.8436\n",
            "user: 196        item: 302        r_ui = 4.00   est = 4.06   {'was_impossible': False}\n"
          ],
          "name": "stdout"
        }
      ]
    },
    {
      "cell_type": "code",
      "metadata": {
        "id": "8C6fN_bNM5nY",
        "colab_type": "code",
        "colab": {
          "base_uri": "https://localhost:8080/",
          "height": 107
        },
        "outputId": "e1812c7f-8c5a-4c1c-b643-97f80424f236"
      },
      "source": [
        "### SVD++算法预测 输出 ###\n",
        "from surprise import SVDpp\n",
        "algo = SVDpp() \n",
        "print(\"SVD++算法预测\")\n",
        "# 定义K折交叉验证迭代器，K=3\n",
        "kf = KFold(n_splits=3)\n",
        "for trainset, testset in kf.split(data):\n",
        "    # 训练并预测\n",
        "    algo.fit(trainset)\n",
        "    predictions = algo.test(testset)\n",
        "    # 计算RMSE\n",
        "    accuracy.rmse(predictions, verbose=True)\n",
        "\n",
        "uid = str(196)\n",
        "iid = str(302)\n",
        "# 输出uid对iid的预测结果\n",
        "\n",
        "pred = algo.predict(uid, iid, r_ui=4, verbose=True)"
      ],
      "execution_count": 16,
      "outputs": [
        {
          "output_type": "stream",
          "text": [
            "SVD++算法预测\n",
            "RMSE: 0.8289\n",
            "RMSE: 0.8286\n",
            "RMSE: 0.8296\n",
            "user: 196        item: 302        r_ui = 4.00   est = 3.98   {'was_impossible': False}\n"
          ],
          "name": "stdout"
        }
      ]
    }
  ]
}