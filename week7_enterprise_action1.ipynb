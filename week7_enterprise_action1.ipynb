{
  "nbformat": 4,
  "nbformat_minor": 0,
  "metadata": {
    "colab": {
      "name": "Untitled1.ipynb",
      "provenance": []
    },
    "kernelspec": {
      "name": "python3",
      "display_name": "Python 3"
    },
    "accelerator": "GPU"
  },
  "cells": [
    {
      "cell_type": "code",
      "metadata": {
        "id": "OsqHhSb1uK4L",
        "outputId": "6ffc927a-3e9b-4bf4-f08d-cb3c4a6f0587",
        "colab": {
          "base_uri": "https://localhost:8080/",
          "height": 35
        }
      },
      "source": [
        "from google.colab import drive\n",
        "drive.mount('/content/drive')"
      ],
      "execution_count": null,
      "outputs": [
        {
          "output_type": "stream",
          "text": [
            "Mounted at /content/drive\n"
          ],
          "name": "stdout"
        }
      ]
    },
    {
      "cell_type": "code",
      "metadata": {
        "id": "eqO45LY52fQg",
        "outputId": "6dd94b9a-1766-4722-8076-dd4f0b4e6dce",
        "colab": {
          "base_uri": "https://localhost:8080/",
          "height": 323
        }
      },
      "source": [
        "!/opt/bin/nvidia-smi"
      ],
      "execution_count": null,
      "outputs": [
        {
          "output_type": "stream",
          "text": [
            "Sun Oct 18 07:08:46 2020       \n",
            "+-----------------------------------------------------------------------------+\n",
            "| NVIDIA-SMI 418.67       Driver Version: 418.67       CUDA Version: 10.1     |\n",
            "|-------------------------------+----------------------+----------------------+\n",
            "| GPU  Name        Persistence-M| Bus-Id        Disp.A | Volatile Uncorr. ECC |\n",
            "| Fan  Temp  Perf  Pwr:Usage/Cap|         Memory-Usage | GPU-Util  Compute M. |\n",
            "|===============================+======================+======================|\n",
            "|   0  Tesla T4            Off  | 00000000:00:04.0 Off |                    0 |\n",
            "| N/A   32C    P8     9W /  70W |      0MiB / 15079MiB |      0%      Default |\n",
            "+-------------------------------+----------------------+----------------------+\n",
            "                                                                               \n",
            "+-----------------------------------------------------------------------------+\n",
            "| Processes:                                                       GPU Memory |\n",
            "|  GPU       PID   Type   Process name                             Usage      |\n",
            "|=============================================================================|\n",
            "|  No running processes found                                                 |\n",
            "+-----------------------------------------------------------------------------+\n"
          ],
          "name": "stdout"
        }
      ]
    },
    {
      "cell_type": "code",
      "metadata": {
        "id": "ZPLLmxi_3GSw",
        "outputId": "13ab0ee9-b200-4e42-f9b1-df9e61cea924",
        "colab": {
          "base_uri": "https://localhost:8080/",
          "height": 73
        }
      },
      "source": [
        "!apt-get install -y -qq software-properties-common python-software-properties module-init-tools !add-apt-repository -y ppa:alessandro-strada/ppa 2>&1 > /dev/null !apt-get update -qq 2>&1 > /dev/null !apt-get -y install -qq google-drive-ocamlfuse fuse from google.colab import auth auth.authenticate_user() from oauth2client.client import GoogleCredentials creds = GoogleCredentials.get_application_default() import getpass !google-drive-ocamlfuse -headless -id={creds.client_id} -secret={creds.client_secret} &1 | grep URL vcode = getpass.getpass() !echo {vcode} | google-drive-ocamlfuse -headless -id={creds.client_id} -secret={creds.client_secret}"
      ],
      "execution_count": null,
      "outputs": [
        {
          "output_type": "stream",
          "text": [
            "/bin/bash: -c: line 0: syntax error near unexpected token `('\n",
            "/bin/bash: -c: line 0: `apt-get install -y -qq software-properties-common python-software-properties module-init-tools !add-apt-repository -y ppa:alessandro-strada/ppa 2>&1 > /dev/null !apt-get update -qq 2>&1 > /dev/null !apt-get -y install -qq google-drive-ocamlfuse fuse from google.colab import auth auth.authenticate_user() from oauth2client.client import GoogleCredentials creds = GoogleCredentials.get_application_default() import getpass !google-drive-ocamlfuse -headless -id={creds.client_id} -secret={creds.client_secret} &1 | grep URL vcode = getpass.getpass() !echo {vcode} | google-drive-ocamlfuse -headless -id={creds.client_id} -secret={creds.client_secret}'\n"
          ],
          "name": "stdout"
        }
      ]
    },
    {
      "cell_type": "code",
      "metadata": {
        "id": "OPbvA8A-YXPO"
      },
      "source": [
        "###导入相关包###\n",
        "import torch\n",
        "from torch import nn, optim\n",
        "import torchvision\n",
        "import torch.nn.functional as F\n",
        "\n",
        "import torchvision.datasets as datasets\n",
        "import torchvision.transforms as transforms\n",
        "from torch.utils.data import DataLoader\n",
        "import matplotlib.pyplot as plt\n",
        "import time\n"
      ],
      "execution_count": null,
      "outputs": []
    },
    {
      "cell_type": "code",
      "metadata": {
        "id": "_NTOf4msY6M9",
        "outputId": "3ad9c427-3b82-4966-b864-8d483f49c38e",
        "colab": {
          "base_uri": "https://localhost:8080/",
          "height": 53
        }
      },
      "source": [
        "# CIFAR10数据集下载\n",
        "train_data = datasets.CIFAR10(root='/drive/',train=True,transform=transforms.ToTensor(),download=True)                        \n",
        "test_data = datasets.CIFAR10(root='/drive/',train=False,transform=transforms.ToTensor(),download=True)"
      ],
      "execution_count": null,
      "outputs": [
        {
          "output_type": "stream",
          "text": [
            "Files already downloaded and verified\n",
            "Files already downloaded and verified\n"
          ],
          "name": "stdout"
        }
      ]
    },
    {
      "cell_type": "code",
      "metadata": {
        "id": "ttXGjqkgLm-2",
        "outputId": "d3e852ad-d0f7-4b2e-d87e-c5e94e012290",
        "colab": {
          "base_uri": "https://localhost:8080/",
          "height": 53
        }
      },
      "source": [
        "print(train_data.data.size)\n",
        "print(test_data.data.size)"
      ],
      "execution_count": null,
      "outputs": [
        {
          "output_type": "stream",
          "text": [
            "153600000\n",
            "30720000\n"
          ],
          "name": "stdout"
        }
      ]
    },
    {
      "cell_type": "code",
      "metadata": {
        "id": "IPYCpmsZ6YP5",
        "outputId": "7871dfe1-abe9-4830-85c4-d59a0029372e",
        "colab": {
          "base_uri": "https://localhost:8080/",
          "height": 302
        }
      },
      "source": [
        "#图形可视化\n",
        "temp=train_data[7][0].numpy()  \n",
        "print(temp.shape)\n",
        "temp=temp.transpose(1,2,0)\n",
        "plt.imshow(temp)"
      ],
      "execution_count": 38,
      "outputs": [
        {
          "output_type": "stream",
          "text": [
            "(3, 32, 32)\n"
          ],
          "name": "stdout"
        },
        {
          "output_type": "execute_result",
          "data": {
            "text/plain": [
              "<matplotlib.image.AxesImage at 0x7feefc2b5860>"
            ]
          },
          "metadata": {
            "tags": []
          },
          "execution_count": 38
        },
        {
          "output_type": "display_data",
          "data": {
            "image/png": "[encoded data removed]",
            "text/plain": [
              "<Figure size 432x288 with 1 Axes>"
            ]
          },
          "metadata": {
            "tags": [],
            "needs_background": "light"
          }
        }
      ]
    },
    {
      "cell_type": "code",
      "metadata": {
        "id": "95DGzq2g8o9f"
      },
      "source": [
        "#超参数定义\n",
        "EPOCH = 150               # 训练epoch次数\n",
        "BATCH_SIZE = 128         # 批训练的数量\n",
        "LR = 0.1              # 学习率\n",
        "\n",
        "# 使用DataLoader进行分批\n",
        "train_loader = DataLoader(dataset=train_data, batch_size=BATCH_SIZE, shuffle=True)\n",
        "test_loader = DataLoader(dataset=test_data, batch_size=BATCH_SIZE)\n",
        "\n",
        "# 使用ResNet34\n",
        "model=torchvision.models.resnet34(pretrained=True)\n",
        "# 使用DenseNet121\n",
        "#model2=torchvision.models.densenet121(pretrained=True)"
      ],
      "execution_count": 74,
      "outputs": []
    },
    {
      "cell_type": "code",
      "metadata": {
        "id": "orXwI3z-7WEC",
        "outputId": "b9961f76-6bbd-417f-cb18-72bb3fc622bd",
        "colab": {
          "base_uri": "https://localhost:8080/",
          "height": 1000
        }
      },
      "source": [
        "#损失函数:这里用交叉熵\n",
        "criterion = nn.CrossEntropyLoss()\n",
        "#优化器 这里用SGD\n",
        "optimizer = optim.Adam(model.parameters(), lr=1e-3)\n",
        "#device : GPU \n",
        "device = torch.device(\"cuda:0\" if torch.cuda.is_available() else \"cpu\")\n",
        "model.to(device)"
      ],
      "execution_count": 75,
      "outputs": [
        {
          "output_type": "execute_result",
          "data": {
            "text/plain": [
              "ResNet(\n",
              "  (conv1): Conv2d(3, 64, kernel_size=(7, 7), stride=(2, 2), padding=(3, 3), bias=False)\n",
              "  (bn1): BatchNorm2d(64, eps=1e-05, momentum=0.1, affine=True, track_running_stats=True)\n",
              "  (relu): ReLU(inplace=True)\n",
              "  (maxpool): MaxPool2d(kernel_size=3, stride=2, padding=1, dilation=1, ceil_mode=False)\n",
              "  (layer1): Sequential(\n",
              "    (0): BasicBlock(\n",
              "      (conv1): Conv2d(64, 64, kernel_size=(3, 3), stride=(1, 1), padding=(1, 1), bias=False)\n",
              "      (bn1): BatchNorm2d(64, eps=1e-05, momentum=0.1, affine=True, track_running_stats=True)\n",
              "      (relu): ReLU(inplace=True)\n",
              "      (conv2): Conv2d(64, 64, kernel_size=(3, 3), stride=(1, 1), padding=(1, 1), bias=False)\n",
              "      (bn2): BatchNorm2d(64, eps=1e-05, momentum=0.1, affine=True, track_running_stats=True)\n",
              "    )\n",
              "    (1): BasicBlock(\n",
              "      (conv1): Conv2d(64, 64, kernel_size=(3, 3), stride=(1, 1), padding=(1, 1), bias=False)\n",
              "      (bn1): BatchNorm2d(64, eps=1e-05, momentum=0.1, affine=True, track_running_stats=True)\n",
              "      (relu): ReLU(inplace=True)\n",
              "      (conv2): Conv2d(64, 64, kernel_size=(3, 3), stride=(1, 1), padding=(1, 1), bias=False)\n",
              "      (bn2): BatchNorm2d(64, eps=1e-05, momentum=0.1, affine=True, track_running_stats=True)\n",
              "    )\n",
              "    (2): BasicBlock(\n",
              "      (conv1): Conv2d(64, 64, kernel_size=(3, 3), stride=(1, 1), padding=(1, 1), bias=False)\n",
              "      (bn1): BatchNorm2d(64, eps=1e-05, momentum=0.1, affine=True, track_running_stats=True)\n",
              "      (relu): ReLU(inplace=True)\n",
              "      (conv2): Conv2d(64, 64, kernel_size=(3, 3), stride=(1, 1), padding=(1, 1), bias=False)\n",
              "      (bn2): BatchNorm2d(64, eps=1e-05, momentum=0.1, affine=True, track_running_stats=True)\n",
              "    )\n",
              "  )\n",
              "  (layer2): Sequential(\n",
              "    (0): BasicBlock(\n",
              "      (conv1): Conv2d(64, 128, kernel_size=(3, 3), stride=(2, 2), padding=(1, 1), bias=False)\n",
              "      (bn1): BatchNorm2d(128, eps=1e-05, momentum=0.1, affine=True, track_running_stats=True)\n",
              "      (relu): ReLU(inplace=True)\n",
              "      (conv2): Conv2d(128, 128, kernel_size=(3, 3), stride=(1, 1), padding=(1, 1), bias=False)\n",
              "      (bn2): BatchNorm2d(128, eps=1e-05, momentum=0.1, affine=True, track_running_stats=True)\n",
              "      (downsample): Sequential(\n",
              "        (0): Conv2d(64, 128, kernel_size=(1, 1), stride=(2, 2), bias=False)\n",
              "        (1): BatchNorm2d(128, eps=1e-05, momentum=0.1, affine=True, track_running_stats=True)\n",
              "      )\n",
              "    )\n",
              "    (1): BasicBlock(\n",
              "      (conv1): Conv2d(128, 128, kernel_size=(3, 3), stride=(1, 1), padding=(1, 1), bias=False)\n",
              "      (bn1): BatchNorm2d(128, eps=1e-05, momentum=0.1, affine=True, track_running_stats=True)\n",
              "      (relu): ReLU(inplace=True)\n",
              "      (conv2): Conv2d(128, 128, kernel_size=(3, 3), stride=(1, 1), padding=(1, 1), bias=False)\n",
              "      (bn2): BatchNorm2d(128, eps=1e-05, momentum=0.1, affine=True, track_running_stats=True)\n",
              "    )\n",
              "    (2): BasicBlock(\n",
              "      (conv1): Conv2d(128, 128, kernel_size=(3, 3), stride=(1, 1), padding=(1, 1), bias=False)\n",
              "      (bn1): BatchNorm2d(128, eps=1e-05, momentum=0.1, affine=True, track_running_stats=True)\n",
              "      (relu): ReLU(inplace=True)\n",
              "      (conv2): Conv2d(128, 128, kernel_size=(3, 3), stride=(1, 1), padding=(1, 1), bias=False)\n",
              "      (bn2): BatchNorm2d(128, eps=1e-05, momentum=0.1, affine=True, track_running_stats=True)\n",
              "    )\n",
              "    (3): BasicBlock(\n",
              "      (conv1): Conv2d(128, 128, kernel_size=(3, 3), stride=(1, 1), padding=(1, 1), bias=False)\n",
              "      (bn1): BatchNorm2d(128, eps=1e-05, momentum=0.1, affine=True, track_running_stats=True)\n",
              "      (relu): ReLU(inplace=True)\n",
              "      (conv2): Conv2d(128, 128, kernel_size=(3, 3), stride=(1, 1), padding=(1, 1), bias=False)\n",
              "      (bn2): BatchNorm2d(128, eps=1e-05, momentum=0.1, affine=True, track_running_stats=True)\n",
              "    )\n",
              "  )\n",
              "  (layer3): Sequential(\n",
              "    (0): BasicBlock(\n",
              "      (conv1): Conv2d(128, 256, kernel_size=(3, 3), stride=(2, 2), padding=(1, 1), bias=False)\n",
              "      (bn1): BatchNorm2d(256, eps=1e-05, momentum=0.1, affine=True, track_running_stats=True)\n",
              "      (relu): ReLU(inplace=True)\n",
              "      (conv2): Conv2d(256, 256, kernel_size=(3, 3), stride=(1, 1), padding=(1, 1), bias=False)\n",
              "      (bn2): BatchNorm2d(256, eps=1e-05, momentum=0.1, affine=True, track_running_stats=True)\n",
              "      (downsample): Sequential(\n",
              "        (0): Conv2d(128, 256, kernel_size=(1, 1), stride=(2, 2), bias=False)\n",
              "        (1): BatchNorm2d(256, eps=1e-05, momentum=0.1, affine=True, track_running_stats=True)\n",
              "      )\n",
              "    )\n",
              "    (1): BasicBlock(\n",
              "      (conv1): Conv2d(256, 256, kernel_size=(3, 3), stride=(1, 1), padding=(1, 1), bias=False)\n",
              "      (bn1): BatchNorm2d(256, eps=1e-05, momentum=0.1, affine=True, track_running_stats=True)\n",
              "      (relu): ReLU(inplace=True)\n",
              "      (conv2): Conv2d(256, 256, kernel_size=(3, 3), stride=(1, 1), padding=(1, 1), bias=False)\n",
              "      (bn2): BatchNorm2d(256, eps=1e-05, momentum=0.1, affine=True, track_running_stats=True)\n",
              "    )\n",
              "    (2): BasicBlock(\n",
              "      (conv1): Conv2d(256, 256, kernel_size=(3, 3), stride=(1, 1), padding=(1, 1), bias=False)\n",
              "      (bn1): BatchNorm2d(256, eps=1e-05, momentum=0.1, affine=True, track_running_stats=True)\n",
              "      (relu): ReLU(inplace=True)\n",
              "      (conv2): Conv2d(256, 256, kernel_size=(3, 3), stride=(1, 1), padding=(1, 1), bias=False)\n",
              "      (bn2): BatchNorm2d(256, eps=1e-05, momentum=0.1, affine=True, track_running_stats=True)\n",
              "    )\n",
              "    (3): BasicBlock(\n",
              "      (conv1): Conv2d(256, 256, kernel_size=(3, 3), stride=(1, 1), padding=(1, 1), bias=False)\n",
              "      (bn1): BatchNorm2d(256, eps=1e-05, momentum=0.1, affine=True, track_running_stats=True)\n",
              "      (relu): ReLU(inplace=True)\n",
              "      (conv2): Conv2d(256, 256, kernel_size=(3, 3), stride=(1, 1), padding=(1, 1), bias=False)\n",
              "      (bn2): BatchNorm2d(256, eps=1e-05, momentum=0.1, affine=True, track_running_stats=True)\n",
              "    )\n",
              "    (4): BasicBlock(\n",
              "      (conv1): Conv2d(256, 256, kernel_size=(3, 3), stride=(1, 1), padding=(1, 1), bias=False)\n",
              "      (bn1): BatchNorm2d(256, eps=1e-05, momentum=0.1, affine=True, track_running_stats=True)\n",
              "      (relu): ReLU(inplace=True)\n",
              "      (conv2): Conv2d(256, 256, kernel_size=(3, 3), stride=(1, 1), padding=(1, 1), bias=False)\n",
              "      (bn2): BatchNorm2d(256, eps=1e-05, momentum=0.1, affine=True, track_running_stats=True)\n",
              "    )\n",
              "    (5): BasicBlock(\n",
              "      (conv1): Conv2d(256, 256, kernel_size=(3, 3), stride=(1, 1), padding=(1, 1), bias=False)\n",
              "      (bn1): BatchNorm2d(256, eps=1e-05, momentum=0.1, affine=True, track_running_stats=True)\n",
              "      (relu): ReLU(inplace=True)\n",
              "      (conv2): Conv2d(256, 256, kernel_size=(3, 3), stride=(1, 1), padding=(1, 1), bias=False)\n",
              "      (bn2): BatchNorm2d(256, eps=1e-05, momentum=0.1, affine=True, track_running_stats=True)\n",
              "    )\n",
              "  )\n",
              "  (layer4): Sequential(\n",
              "    (0): BasicBlock(\n",
              "      (conv1): Conv2d(256, 512, kernel_size=(3, 3), stride=(2, 2), padding=(1, 1), bias=False)\n",
              "      (bn1): BatchNorm2d(512, eps=1e-05, momentum=0.1, affine=True, track_running_stats=True)\n",
              "      (relu): ReLU(inplace=True)\n",
              "      (conv2): Conv2d(512, 512, kernel_size=(3, 3), stride=(1, 1), padding=(1, 1), bias=False)\n",
              "      (bn2): BatchNorm2d(512, eps=1e-05, momentum=0.1, affine=True, track_running_stats=True)\n",
              "      (downsample): Sequential(\n",
              "        (0): Conv2d(256, 512, kernel_size=(1, 1), stride=(2, 2), bias=False)\n",
              "        (1): BatchNorm2d(512, eps=1e-05, momentum=0.1, affine=True, track_running_stats=True)\n",
              "      )\n",
              "    )\n",
              "    (1): BasicBlock(\n",
              "      (conv1): Conv2d(512, 512, kernel_size=(3, 3), stride=(1, 1), padding=(1, 1), bias=False)\n",
              "      (bn1): BatchNorm2d(512, eps=1e-05, momentum=0.1, affine=True, track_running_stats=True)\n",
              "      (relu): ReLU(inplace=True)\n",
              "      (conv2): Conv2d(512, 512, kernel_size=(3, 3), stride=(1, 1), padding=(1, 1), bias=False)\n",
              "      (bn2): BatchNorm2d(512, eps=1e-05, momentum=0.1, affine=True, track_running_stats=True)\n",
              "    )\n",
              "    (2): BasicBlock(\n",
              "      (conv1): Conv2d(512, 512, kernel_size=(3, 3), stride=(1, 1), padding=(1, 1), bias=False)\n",
              "      (bn1): BatchNorm2d(512, eps=1e-05, momentum=0.1, affine=True, track_running_stats=True)\n",
              "      (relu): ReLU(inplace=True)\n",
              "      (conv2): Conv2d(512, 512, kernel_size=(3, 3), stride=(1, 1), padding=(1, 1), bias=False)\n",
              "      (bn2): BatchNorm2d(512, eps=1e-05, momentum=0.1, affine=True, track_running_stats=True)\n",
              "    )\n",
              "  )\n",
              "  (avgpool): AdaptiveAvgPool2d(output_size=(1, 1))\n",
              "  (fc): Linear(in_features=512, out_features=1000, bias=True)\n",
              ")"
            ]
          },
          "metadata": {
            "tags": []
          },
          "execution_count": 75
        }
      ]
    },
    {
      "cell_type": "code",
      "metadata": {
        "id": "kP9netxMpXNn",
        "outputId": "9e19ded2-6d15-45a8-8658-94205adf0743",
        "colab": {
          "base_uri": "https://localhost:8080/",
          "height": 1000
        }
      },
      "source": [
        "for epoch in range(EPOCH):\n",
        "  start_time=time.time()\n",
        "  for i, data in enumerate(train_loader):\n",
        "      inputs, labels = data\n",
        "      inputs, labels = inputs.to(device), labels.to(device)\n",
        "        # 前向传播\n",
        "      outputs = model(inputs)\n",
        "        # 计算损失函数\n",
        "      loss = criterion(outputs, labels)\n",
        "        # 清空上一轮梯度\n",
        "      optimizer.zero_grad()\n",
        "        # 反向传播\n",
        "      loss.backward()\n",
        "        # 参数更新\n",
        "      optimizer.step()\n",
        "  print('epoch{} loss:{:.4f} time:{:.4f}'.format(epoch+1, loss.item(), time.time()-start_time))\n",
        "      "
      ],
      "execution_count": 76,
      "outputs": [
        {
          "output_type": "stream",
          "text": [
            "epoch1 loss:0.7110 time:25.4311\n",
            "epoch2 loss:0.5618 time:25.8468\n",
            "epoch3 loss:0.4465 time:26.2226\n",
            "epoch4 loss:0.2549 time:26.4863\n",
            "epoch5 loss:0.2148 time:26.7859\n",
            "epoch6 loss:0.4296 time:27.0152\n",
            "epoch7 loss:0.1912 time:27.2151\n",
            "epoch8 loss:0.1253 time:27.5953\n",
            "epoch9 loss:0.1010 time:27.8830\n",
            "epoch10 loss:0.1580 time:27.7228\n",
            "epoch11 loss:0.0453 time:27.7790\n",
            "epoch12 loss:0.0169 time:27.7801\n",
            "epoch13 loss:0.0883 time:27.7327\n",
            "epoch14 loss:0.1613 time:27.7430\n",
            "epoch15 loss:0.1290 time:27.7329\n",
            "epoch16 loss:0.0244 time:27.7351\n",
            "epoch17 loss:0.1013 time:27.7334\n",
            "epoch18 loss:0.0384 time:27.7214\n",
            "epoch19 loss:0.0833 time:27.7305\n",
            "epoch20 loss:0.0338 time:27.7269\n",
            "epoch21 loss:0.0967 time:27.7397\n",
            "epoch22 loss:0.1097 time:27.7420\n",
            "epoch23 loss:0.0812 time:27.7322\n",
            "epoch24 loss:0.0848 time:27.7417\n",
            "epoch25 loss:0.3418 time:27.7439\n",
            "epoch26 loss:0.0826 time:27.7318\n",
            "epoch27 loss:0.0126 time:27.7275\n",
            "epoch28 loss:0.0598 time:27.7072\n",
            "epoch29 loss:0.0066 time:27.7310\n",
            "epoch30 loss:0.0313 time:27.6988\n",
            "epoch31 loss:0.0094 time:27.6862\n",
            "epoch32 loss:0.0472 time:27.6720\n",
            "epoch33 loss:0.1578 time:27.6828\n",
            "epoch34 loss:0.0097 time:27.6866\n",
            "epoch35 loss:0.0439 time:27.6482\n",
            "epoch36 loss:0.0026 time:27.6560\n",
            "epoch37 loss:0.0611 time:27.7034\n",
            "epoch38 loss:0.0158 time:27.7039\n",
            "epoch39 loss:0.0433 time:27.7115\n",
            "epoch40 loss:0.0553 time:27.7368\n",
            "epoch41 loss:0.0352 time:27.7045\n",
            "epoch42 loss:0.0007 time:27.7078\n",
            "epoch43 loss:0.0270 time:27.6905\n",
            "epoch44 loss:0.0116 time:27.6635\n",
            "epoch45 loss:0.0146 time:27.6690\n",
            "epoch46 loss:0.0879 time:27.6133\n",
            "epoch47 loss:0.0177 time:27.6000\n",
            "epoch48 loss:0.0008 time:27.5926\n",
            "epoch49 loss:0.0319 time:27.6237\n",
            "epoch50 loss:0.0297 time:27.6344\n",
            "epoch51 loss:0.0039 time:27.5948\n",
            "epoch52 loss:0.0022 time:27.6314\n",
            "epoch53 loss:0.0348 time:27.5951\n",
            "epoch54 loss:0.0223 time:27.6170\n",
            "epoch55 loss:0.0994 time:27.5942\n",
            "epoch56 loss:0.0258 time:27.6522\n",
            "epoch57 loss:0.0019 time:27.6740\n",
            "epoch58 loss:0.1141 time:27.7262\n",
            "epoch59 loss:0.0053 time:27.7156\n",
            "epoch60 loss:0.0086 time:27.6879\n",
            "epoch61 loss:0.0060 time:27.6760\n",
            "epoch62 loss:0.0151 time:27.6462\n",
            "epoch63 loss:0.0279 time:27.6243\n",
            "epoch64 loss:0.0191 time:27.6505\n",
            "epoch65 loss:0.0277 time:27.6021\n",
            "epoch66 loss:0.1103 time:27.6762\n",
            "epoch67 loss:0.0211 time:27.6434\n",
            "epoch68 loss:0.0588 time:27.5507\n",
            "epoch69 loss:0.0015 time:27.5674\n",
            "epoch70 loss:0.0277 time:27.6187\n",
            "epoch71 loss:0.0058 time:27.6289\n",
            "epoch72 loss:0.0002 time:27.6675\n",
            "epoch73 loss:0.0682 time:27.6272\n",
            "epoch74 loss:0.0060 time:27.5908\n",
            "epoch75 loss:0.0002 time:27.5524\n",
            "epoch76 loss:0.0001 time:27.5764\n",
            "epoch77 loss:0.0010 time:27.5367\n",
            "epoch78 loss:0.0027 time:27.5576\n",
            "epoch79 loss:0.0367 time:27.5341\n",
            "epoch80 loss:0.0053 time:27.4878\n",
            "epoch81 loss:0.0752 time:27.4856\n",
            "epoch82 loss:0.0062 time:27.5113\n",
            "epoch83 loss:0.0425 time:27.5528\n",
            "epoch84 loss:0.0004 time:27.5905\n",
            "epoch85 loss:0.0051 time:27.6681\n",
            "epoch86 loss:0.0050 time:27.6580\n",
            "epoch87 loss:0.0029 time:27.6432\n",
            "epoch88 loss:0.1137 time:27.6741\n",
            "epoch89 loss:0.0225 time:27.6191\n",
            "epoch90 loss:0.0057 time:27.5780\n",
            "epoch91 loss:0.0249 time:27.5492\n",
            "epoch92 loss:0.0006 time:27.5373\n",
            "epoch93 loss:0.0013 time:27.5424\n",
            "epoch94 loss:0.0081 time:27.5110\n",
            "epoch95 loss:0.0001 time:27.4980\n",
            "epoch96 loss:0.0021 time:27.4903\n",
            "epoch97 loss:0.0054 time:27.4868\n",
            "epoch98 loss:0.0021 time:27.4843\n",
            "epoch99 loss:0.0166 time:27.6363\n",
            "epoch100 loss:0.0002 time:27.6653\n",
            "epoch101 loss:0.0251 time:27.6394\n",
            "epoch102 loss:0.0004 time:27.5782\n",
            "epoch103 loss:0.0035 time:27.5836\n",
            "epoch104 loss:0.0259 time:27.5400\n",
            "epoch105 loss:0.0005 time:27.5522\n",
            "epoch106 loss:0.0450 time:27.5243\n",
            "epoch107 loss:0.0903 time:27.5316\n",
            "epoch108 loss:0.0207 time:27.5278\n",
            "epoch109 loss:0.0475 time:27.5097\n",
            "epoch110 loss:0.0006 time:27.5061\n",
            "epoch111 loss:0.0083 time:27.5108\n",
            "epoch112 loss:0.0314 time:27.5480\n",
            "epoch113 loss:0.0336 time:27.5033\n",
            "epoch114 loss:0.0635 time:27.5373\n",
            "epoch115 loss:0.0113 time:27.5388\n",
            "epoch116 loss:0.0080 time:27.5211\n",
            "epoch117 loss:0.4608 time:27.5134\n",
            "epoch118 loss:0.1039 time:27.5418\n",
            "epoch119 loss:0.0116 time:27.5420\n",
            "epoch120 loss:0.0002 time:27.5284\n",
            "epoch121 loss:0.0001 time:27.5826\n",
            "epoch122 loss:0.0000 time:27.6336\n",
            "epoch123 loss:0.0015 time:27.6793\n",
            "epoch124 loss:0.0358 time:27.6630\n",
            "epoch125 loss:0.0204 time:27.6193\n",
            "epoch126 loss:0.0046 time:27.5652\n",
            "epoch127 loss:0.0072 time:27.5448\n",
            "epoch128 loss:0.0021 time:27.5182\n",
            "epoch129 loss:0.0362 time:27.5365\n",
            "epoch130 loss:0.0532 time:27.6057\n",
            "epoch131 loss:0.0106 time:27.5988\n",
            "epoch132 loss:0.0007 time:27.6577\n",
            "epoch133 loss:0.0100 time:27.6393\n",
            "epoch134 loss:0.0661 time:27.6441\n",
            "epoch135 loss:0.0002 time:27.6640\n",
            "epoch136 loss:0.0027 time:27.6405\n",
            "epoch137 loss:0.0097 time:27.5823\n",
            "epoch138 loss:0.1093 time:27.5455\n",
            "epoch139 loss:0.0043 time:27.5430\n",
            "epoch140 loss:0.0005 time:27.5305\n",
            "epoch141 loss:0.0002 time:27.5308\n",
            "epoch142 loss:0.0026 time:27.5572\n",
            "epoch143 loss:0.0066 time:27.5571\n",
            "epoch144 loss:0.0248 time:27.5938\n",
            "epoch145 loss:0.0329 time:27.5974\n",
            "epoch146 loss:0.0006 time:27.6046\n",
            "epoch147 loss:0.0011 time:27.5861\n",
            "epoch148 loss:0.3174 time:27.6031\n",
            "epoch149 loss:0.0033 time:27.6038\n",
            "epoch150 loss:0.0009 time:27.6102\n"
          ],
          "name": "stdout"
        }
      ]
    },
    {
      "cell_type": "code",
      "metadata": {
        "id": "FUwVGu7VFSX8"
      },
      "source": [
        "#保存训练模型\n",
        "torch.save(model, 'cifar10_resnet18.pt')\n",
        "#torch.save(model, 'cifar10_resnet34.pt')\n",
        "#torch.save(model, 'cifar10_resnet50.pt')\n",
        "#torch.save(model2, 'cifar10_densenet121.pt')\n",
        "model = torch.load('cifar10_resnet18.pt')\n",
        "#model = torch.load('cifar10_resnet34.pt')\n",
        "#model = torch.load('cifar10_resnet50.pt')\n",
        "#model2 = torch.load('cifar10_densenet121.pt')"
      ],
      "execution_count": 77,
      "outputs": []
    },
    {
      "cell_type": "code",
      "metadata": {
        "id": "JP1GYgpPFiqr"
      },
      "source": [
        "# 测试\n",
        "model.eval()\n",
        "correct = 0\n",
        "total = 0\n",
        "for data in test_loader:\n",
        "    images, labels = data\n",
        "    images, labels = images.to(device), labels.to(device)\n",
        "    # 前向传播\n",
        "    out = model(images)\n",
        "    #out2 = model2(images)\n",
        "    _, predicted = torch.max(out.data, 1)\n",
        "    #_, predicted2 = torch.max(out2.data, 1)\n",
        "    total += labels.size(0)\n",
        "    correct += (predicted == labels).sum().item()\n",
        "    #correct2 += (predicted2 == labels).sum().item()"
      ],
      "execution_count": 80,
      "outputs": []
    },
    {
      "cell_type": "code",
      "metadata": {
        "id": "P46uyMTTFrEd",
        "outputId": "5819e39f-f7d0-4bf4-b986-c879a2de32bf",
        "colab": {
          "base_uri": "https://localhost:8080/",
          "height": 35
        }
      },
      "source": [
        "#输出识别准确率\n",
        "print('10000测试图像 resnet34准确率:{:.4f}%'.format(100 * correct / total)) "
      ],
      "execution_count": 64,
      "outputs": [
        {
          "output_type": "stream",
          "text": [
            "10000测试图像 resnet34准确率:81.6300%\n"
          ],
          "name": "stdout"
        }
      ]
    },
    {
      "cell_type": "code",
      "metadata": {
        "id": "TXrMLaoP7_7u",
        "outputId": "73335317-e9e1-4b4e-9e64-4dade83861fa",
        "colab": {
          "base_uri": "https://localhost:8080/",
          "height": 35
        }
      },
      "source": [
        "#输出识别准确率\n",
        "print('10000测试图像 resnet18准确率:{:.4f}%'.format(100 * correct / total)) "
      ],
      "execution_count": 81,
      "outputs": [
        {
          "output_type": "stream",
          "text": [
            "10000测试图像 resnet18准确率:81.8800%\n"
          ],
          "name": "stdout"
        }
      ]
    }
  ]
}